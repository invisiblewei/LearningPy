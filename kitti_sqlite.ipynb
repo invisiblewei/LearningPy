{
 "metadata": {
  "name": ""
 },
 "nbformat": 3,
 "nbformat_minor": 0,
 "worksheets": [
  {
   "cells": [
    {
     "cell_type": "code",
     "collapsed": false,
     "input": [
      "import sqlite3\n",
      "def connectDB(path):\n",
      "    conn = sqlite3.connect(path)\n",
      "    print \"Opened database successfully\"; \n",
      "    return conn"
     ],
     "language": "python",
     "metadata": {},
     "outputs": [],
     "prompt_number": 13
    },
    {
     "cell_type": "code",
     "collapsed": false,
     "input": [
      "conn = connectDB(\"./kitti.db\")\n",
      "conn.isolation_level = '' #\u8fd9\u4e2a\u5c31\u662f\u4e8b\u52a1\u9694\u79bb\u7ea7\u522b\uff0c\u9ed8\u8ba4\u662f\u9700\u8981\u81ea\u5df1commit\u624d\u80fd\u4fee\u6539\u6570\u636e\u5e93\uff0c\u7f6e\u4e3aNone\u5219\u81ea\u52a8\u6bcf\u6b21\u4fee\u6539\u90fd\u63d0\u4ea4,\u5426\u5219\u4e3a\"\"\n",
      "# \u4e0b\u9762\u5c31\u662f\u521b\u5efa\u4e00\u4e2a\u8868\n",
      "conn.execute('''creat table kitti_data(\n",
      "            ID varchar(10) PRIMARY KEY     NOT NULL,\n",
      "            truncation real not null,\n",
      "            occlusion int not null,\n",
      "            alpha     real not null,\n",
      "            xmin     real not null,\n",
      "            xmax     real not null,\n",
      "            ymin     real not null,\n",
      "            ymax     real not null,\n",
      "            h     real not null,\n",
      "            l     real not null,\n",
      "            t     real not null,\n",
      "            ry real not null\n",
      "            );''')\n",
      "print \"Table created successfully\";\n",
      "# \u5982\u679c\u9694\u79bb\u7ea7\u522b\u4e0d\u662f\u81ea\u52a8\u63d0\u4ea4\u5c31\u9700\u8981\u624b\u52a8\u6267\u884ccommit\n",
      "conn.commit()\n",
      "conn.close()"
     ],
     "language": "python",
     "metadata": {},
     "outputs": [
      {
       "ename": "OperationalError",
       "evalue": "table COMPANY already exists",
       "output_type": "pyerr",
       "traceback": [
        "\u001b[0;31m---------------------------------------------------------------------------\u001b[0m\n\u001b[0;31mOperationalError\u001b[0m                          Traceback (most recent call last)",
        "\u001b[0;32m<ipython-input-23-8bab4d4d2c04>\u001b[0m in \u001b[0;36m<module>\u001b[0;34m()\u001b[0m\n\u001b[1;32m      7\u001b[0m            \u001b[0mAGE\u001b[0m            \u001b[0mINT\u001b[0m     \u001b[0mNOT\u001b[0m \u001b[0mNULL\u001b[0m\u001b[0;34m,\u001b[0m\u001b[0;34m\u001b[0m\u001b[0m\n\u001b[1;32m      8\u001b[0m            \u001b[0mADDRESS\u001b[0m        \u001b[0mCHAR\u001b[0m\u001b[0;34m(\u001b[0m\u001b[0;36m50\u001b[0m\u001b[0;34m)\u001b[0m\u001b[0;34m,\u001b[0m\u001b[0;34m\u001b[0m\u001b[0m\n\u001b[0;32m----> 9\u001b[0;31m            SALARY         REAL);''')\n\u001b[0m\u001b[1;32m     10\u001b[0m \u001b[0;32mprint\u001b[0m \u001b[0;34m\"Table created successfully\"\u001b[0m\u001b[0;34m;\u001b[0m\u001b[0;34m\u001b[0m\u001b[0m\n\u001b[1;32m     11\u001b[0m \u001b[0;31m# \u5982\u679c\u9694\u79bb\u7ea7\u522b\u4e0d\u662f\u81ea\u52a8\u63d0\u4ea4\u5c31\u9700\u8981\u624b\u52a8\u6267\u884ccommit\u001b[0m\u001b[0;34m\u001b[0m\u001b[0;34m\u001b[0m\u001b[0m\n",
        "\u001b[0;31mOperationalError\u001b[0m: table COMPANY already exists"
       ]
      },
      {
       "output_type": "stream",
       "stream": "stdout",
       "text": [
        "Opened database successfully\n"
       ]
      },
      {
       "output_type": "stream",
       "stream": "stderr",
       "text": [
        "ERROR: An unexpected error occurred while tokenizing input\n",
        "The following traceback may be corrupted or invalid\n",
        "The error message is: ('EOF in multi-line string', (1, 32))\n",
        "\n"
       ]
      }
     ],
     "prompt_number": 23
    },
    {
     "cell_type": "code",
     "collapsed": false,
     "input": [
      "conn = sqlite3.connect('./kitti.db')\n",
      "print \"Opened database successfully\";\n",
      "\n",
      "conn.execute(\"INSERT INTO kitti_data \\\n",
      "      VALUES (1, 'Paul', 32, 'California', 20000.00 )\");\n",
      "\n",
      "conn.execute(\"INSERT INTO COMPANY (ID,NAME,AGE,ADDRESS,SALARY) \\\n",
      "      VALUES (2, 'Allen', 25, 'Texas', 15000.00 )\");\n",
      "\n",
      "conn.execute(\"INSERT INTO COMPANY (ID,NAME,AGE,ADDRESS,SALARY) \\\n",
      "      VALUES (3, 'Teddy', 23, 'Norway', 20000.00 )\");\n",
      "\n",
      "conn.execute(\"INSERT INTO COMPANY (ID,NAME,AGE,ADDRESS,SALARY) \\\n",
      "      VALUES (4, 'Mark', 25, 'Rich-Mond ', 65000.00 )\");\n",
      "\n",
      "conn.commit()\n",
      "print \"Records created successfully\";\n",
      "conn.close()  "
     ],
     "language": "python",
     "metadata": {},
     "outputs": [
      {
       "ename": "IntegrityError",
       "evalue": "UNIQUE constraint failed: COMPANY.ID",
       "output_type": "pyerr",
       "traceback": [
        "\u001b[0;31m---------------------------------------------------------------------------\u001b[0m\n\u001b[0;31mIntegrityError\u001b[0m                            Traceback (most recent call last)",
        "\u001b[0;32m<ipython-input-24-012c855e9377>\u001b[0m in \u001b[0;36m<module>\u001b[0;34m()\u001b[0m\n\u001b[1;32m      2\u001b[0m \u001b[0;32mprint\u001b[0m \u001b[0;34m\"Opened database successfully\"\u001b[0m\u001b[0;34m;\u001b[0m\u001b[0;34m\u001b[0m\u001b[0m\n\u001b[1;32m      3\u001b[0m \u001b[0;34m\u001b[0m\u001b[0m\n\u001b[0;32m----> 4\u001b[0;31m \u001b[0mconn\u001b[0m\u001b[0;34m.\u001b[0m\u001b[0mexecute\u001b[0m\u001b[0;34m(\u001b[0m\u001b[0;34m\"INSERT INTO COMPANY (ID,NAME,AGE,ADDRESS,SALARY)       VALUES (1, 'Paul', 32, 'California', 20000.00 )\"\u001b[0m\u001b[0;34m)\u001b[0m\u001b[0;34m;\u001b[0m\u001b[0;34m\u001b[0m\u001b[0m\n\u001b[0m\u001b[1;32m      5\u001b[0m \u001b[0;34m\u001b[0m\u001b[0m\n\u001b[1;32m      6\u001b[0m \u001b[0mconn\u001b[0m\u001b[0;34m.\u001b[0m\u001b[0mexecute\u001b[0m\u001b[0;34m(\u001b[0m\u001b[0;34m\"INSERT INTO COMPANY (ID,NAME,AGE,ADDRESS,SALARY)       VALUES (2, 'Allen', 25, 'Texas', 15000.00 )\"\u001b[0m\u001b[0;34m)\u001b[0m\u001b[0;34m;\u001b[0m\u001b[0;34m\u001b[0m\u001b[0m\n",
        "\u001b[0;31mIntegrityError\u001b[0m: UNIQUE constraint failed: COMPANY.ID"
       ]
      },
      {
       "output_type": "stream",
       "stream": "stdout",
       "text": [
        "Opened database successfully\n"
       ]
      }
     ],
     "prompt_number": 24
    },
    {
     "cell_type": "code",
     "collapsed": false,
     "input": [
      "conn = sqlite3.connect('a.db')\n",
      "print \"Opened database successfully\";\n",
      "\n",
      "cursor = conn.execute(\"SELECT id, name, address, salary  from COMPANY\")\n",
      "for row in cursor:\n",
      "   print \"ID = \", row[0]\n",
      "   print \"NAME = \", row[1]\n",
      "   print \"ADDRESS = \", row[2]\n",
      "   print \"SALARY = \", row[3], \"\\n\"\n",
      "\n",
      "print \"Operation done successfully\";\n",
      "conn.close()  "
     ],
     "language": "python",
     "metadata": {},
     "outputs": [
      {
       "output_type": "stream",
       "stream": "stdout",
       "text": [
        "Opened database successfully\n",
        "ID =  1\n",
        "NAME =  Paul\n",
        "ADDRESS =  California\n",
        "SALARY =  20000.0 \n",
        "\n",
        "ID =  2\n",
        "NAME =  Allen\n",
        "ADDRESS =  Texas\n",
        "SALARY =  15000.0 \n",
        "\n",
        "ID =  3\n",
        "NAME =  Teddy\n",
        "ADDRESS =  Norway\n",
        "SALARY =  20000.0 \n",
        "\n",
        "ID =  4\n",
        "NAME =  Mark\n",
        "ADDRESS =  Rich-Mond \n",
        "SALARY =  65000.0 \n",
        "\n",
        "Operation done successfully\n"
       ]
      }
     ],
     "prompt_number": 26
    },
    {
     "cell_type": "code",
     "collapsed": false,
     "input": [
      "conn = sqlite3.connect('a.db')\n",
      "cursor = conn.execute(\"SELECT *  from COMPANY\")"
     ],
     "language": "python",
     "metadata": {},
     "outputs": [],
     "prompt_number": 27
    },
    {
     "cell_type": "code",
     "collapsed": false,
     "input": [
      "for row in cursor:\n",
      "    print row"
     ],
     "language": "python",
     "metadata": {},
     "outputs": [
      {
       "output_type": "stream",
       "stream": "stdout",
       "text": [
        "(1, u'Paul', 32, u'California', 20000.0)\n",
        "(2, u'Allen', 25, u'Texas', 15000.0)\n",
        "(3, u'Teddy', 23, u'Norway', 20000.0)\n",
        "(4, u'Mark', 25, u'Rich-Mond ', 65000.0)\n"
       ]
      }
     ],
     "prompt_number": 31
    },
    {
     "cell_type": "code",
     "collapsed": false,
     "input": [
      "cur.close()\n",
      "conn.close()"
     ],
     "language": "python",
     "metadata": {},
     "outputs": [],
     "prompt_number": 10
    },
    {
     "cell_type": "code",
     "collapsed": false,
     "input": [],
     "language": "python",
     "metadata": {},
     "outputs": []
    }
   ],
   "metadata": {}
  }
 ]
}