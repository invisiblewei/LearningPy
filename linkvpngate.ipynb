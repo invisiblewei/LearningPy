{
 "metadata": {
  "name": ""
 },
 "nbformat": 3,
 "nbformat_minor": 0,
 "worksheets": [
  {
   "cells": [
    {
     "cell_type": "code",
     "collapsed": false,
     "input": [
      "import imaplib\n",
      "import string\n",
      "import email\n",
      "import re\n",
      "\n",
      "def refreshLinks():\n",
      "    imaphost = 'imap.163.com'\n",
      "    username = 'vpngatemirror@163.com'\n",
      "    password = 'vpn163'\n",
      "    imapServer = imaplib.IMAP4_SSL(imaphost)\n",
      "    imapServer.login(username,password)\n",
      "    imapServer.select()\n",
      "    mailResp,items = imapServer.search(None, 'ALL')#'Recent'\n",
      "    items = items[0].split(' ')\n",
      "    print items\n",
      "    for item in items[::-1]:\n",
      "        typ,head = imapServer.fetch(item,'(BODY.PEEK[HEADER])')\n",
      "        head =  head[0][1]\n",
      "        head = email.message_from_string(head)\n",
      "        subject = email.Header.decode_header(head['subject'])[0][0]\n",
      "        if cmp(subject,'VPN Gate Daily Mirror URLs')==0:\n",
      "            print subject + '; ' + email.Header.decode_header(head['date'])[0][0]\n",
      "            break\n",
      "    typ,body = imapServer.fetch(item,'(BODY[TEXT])')\n",
      "    body = email.message_from_string(body[0][1]).as_string()\n",
      "    lines = body.split('\\n')\n",
      "    links = [ re.sub(r'/\\r',r'/',re.sub(r'\\d. http://',r'http://',line)) for line in lines if re.match(r\"^\\d\",line)]\n",
      "    print links\n",
      "    return links"
     ],
     "language": "python",
     "metadata": {},
     "outputs": [],
     "prompt_number": 2
    },
    {
     "cell_type": "code",
     "collapsed": false,
     "input": [
      "import urllib2\n",
      "def refreshServers(links):\n",
      "    for link in links:\n",
      "        try:\n",
      "            response = urllib2.urlopen(link+r'api/iphone/',timeout = 10) \n",
      "            data = response.read()\n",
      "            print link\n",
      "            break\n",
      "        except urllib2.HTTPError, e:\n",
      "            print e.code\n",
      "            continue\n",
      "    return data"
     ],
     "language": "python",
     "metadata": {},
     "outputs": [],
     "prompt_number": 93
    },
    {
     "cell_type": "code",
     "collapsed": false,
     "input": [
      "def save_server_data(data):\n",
      "    file = open('vpn_servers.csv', 'w')\n",
      "    file.write(data)\n",
      "    file.close( )"
     ],
     "language": "python",
     "metadata": {},
     "outputs": [],
     "prompt_number": 24
    },
    {
     "cell_type": "code",
     "collapsed": false,
     "input": [
      "def load_server_data():\n",
      "    file = open('vpn_servers.csv','r')\n",
      "    try:\n",
      "         data = file.read()\n",
      "    finally:\n",
      "         file.close()\n",
      "    return data"
     ],
     "language": "python",
     "metadata": {},
     "outputs": [],
     "prompt_number": 6
    },
    {
     "cell_type": "code",
     "collapsed": false,
     "input": [
      "def setupData(data):\n",
      "    servers = data.split('\\n')\n",
      "    title = servers[1].split(',')\n",
      "    title[0] = title[0][1:]\n",
      "    title[-1] = title[-1][:-2]\n",
      "    title[7] = title[7][0:3]\n",
      "    servers = servers[2:-2]\n",
      "    print title\n",
      "    return [title,servers]"
     ],
     "language": "python",
     "metadata": {},
     "outputs": [],
     "prompt_number": 9
    },
    {
     "cell_type": "code",
     "collapsed": false,
     "input": [
      "from IPython.display import clear_output, display, HTML\n",
      "\n",
      "def disp(servers,outputTitle,h):\n",
      "    hl = '<table>\\n'\n",
      "    otitle = [title[i] for i in outputTitle]\n",
      "    hll = '</td><td>'.join(otitle)\n",
      "    hll = '<tr><td>id</td><td>'+hll+'</td></tr>\\n'\n",
      "    hl += hll\n",
      "    id = 0\n",
      "    count = 0\n",
      "    for s in servers:\n",
      "        s = s.split(',')\n",
      "        if int(s[8]) < (1000*60*60*h):\n",
      "            oserver = [s[i] for i in outputTitle]\n",
      "            hll = '</td><td>'.join(oserver)\n",
      "            hll = '<tr><td>'+str(id)+'</td><td>'+hll+'</td></tr>\\n'\n",
      "            hl += hll\n",
      "            count += 1\n",
      "        if count>20:break\n",
      "        id += 1 \n",
      "    hl += '</table>'\n",
      "    display(HTML(hl))"
     ],
     "language": "python",
     "metadata": {},
     "outputs": [],
     "prompt_number": 77
    },
    {
     "cell_type": "code",
     "collapsed": false,
     "input": [
      "def getOVPN4Link(id):\n",
      "    server = servers[id]\n",
      "    import base64\n",
      "    config = base64.b64decode(server.split(',')[14])\n",
      "    file = open('config.ovpn', 'w')\n",
      "    file.write(config)\n",
      "    file.close()\n",
      "    print 'to link to server:' + str(id)\n",
      "    print 'sudo openvpn ./config.ovpn'"
     ],
     "language": "python",
     "metadata": {},
     "outputs": [],
     "prompt_number": 32
    },
    {
     "cell_type": "code",
     "collapsed": false,
     "input": [
      "links = refreshLinks()"
     ],
     "language": "python",
     "metadata": {},
     "outputs": [
      {
       "output_type": "stream",
       "stream": "stdout",
       "text": [
        "['1', '2', '3', '4', '5', '6', '7', '8', '9', '10', '11']\n",
        "VPN Gate Daily Mirror URLs; 22 Sep 2014 18:47:45 +0900"
       ]
      },
      {
       "output_type": "stream",
       "stream": "stdout",
       "text": [
        "\n",
        "['http://222.97.89.198:48877/', 'http://211.47.120.65:10841/', 'http://46-47-121-93.jmb.ddns.bulsat.com:58432/', 'http://ZP229038.ppp.dion.ne.jp:42097/', 'http://p11128-ipngn1601marunouchi.tokyo.ocn.ne.jp:13358/']"
       ]
      },
      {
       "output_type": "stream",
       "stream": "stdout",
       "text": [
        "\n"
       ]
      }
     ],
     "prompt_number": 98
    },
    {
     "cell_type": "code",
     "collapsed": false,
     "input": [
      "data = refreshServers(links)\n",
      "save_server_data(data)\n",
      "title,servers = setupData(data)\n",
      "disp(servers,[1,2,3,4,5,7,8,12,13],24)"
     ],
     "language": "python",
     "metadata": {},
     "outputs": [
      {
       "output_type": "stream",
       "stream": "stdout",
       "text": [
        "http://222.97.89.198:48877/\n",
        "['HostName', 'IP', 'Score', 'Ping', 'Speed', 'CountryLong', 'CountryShort', 'Num', 'Uptime', 'TotalUsers', 'TotalTraffic', 'LogType', 'Operator', 'Message', 'OpenVPN_ConfigData_Base6']\n"
       ]
      },
      {
       "html": [
        "<table>\n",
        "<tr><td>id</td><td>IP</td><td>Score</td><td>Ping</td><td>Speed</td><td>CountryLong</td><td>Num</td><td>Uptime</td><td>Operator</td><td>Message</td></tr>\n",
        "<tr><td>2</td><td>221.163.231.48</td><td>473402</td><td>49</td><td>53320396</td><td>Korea Republic of</td><td>6</td><td>14025108</td><td>cji-PC's owner</td><td></td></tr>\n",
        "<tr><td>4</td><td>112.160.32.176</td><td>458014</td><td>64</td><td>47497027</td><td>Korea Republic of</td><td>13</td><td>24322206</td><td>hwapyung-PC's owner</td><td></td></tr>\n",
        "<tr><td>5</td><td>61.41.133.116</td><td>457219</td><td>69</td><td>53473188</td><td>Korea Republic of</td><td>17</td><td>12611794</td><td>home-PC's owner</td><td></td></tr>\n",
        "<tr><td>7</td><td>175.115.238.97</td><td>450404</td><td>79</td><td>65374736</td><td>Korea Republic of</td><td>15</td><td>72052516</td><td>kim-PC's owner</td><td></td></tr>\n",
        "<tr><td>8</td><td>1.245.134.8</td><td>446464</td><td>73</td><td>32633001</td><td>Korea Republic of</td><td>2</td><td>8108686</td><td>MASTER-PC's owner</td><td></td></tr>\n",
        "<tr><td>9</td><td>114.203.225.240</td><td>446388</td><td>71</td><td>66795556</td><td>Korea Republic of</td><td>1</td><td>1685136</td><td>CAN000012.LGDISPLAY.GLOBAL's owner</td><td></td></tr>\n",
        "<tr><td>13</td><td>182.222.115.78</td><td>433812</td><td>89</td><td>53825300</td><td>Korea Republic of</td><td>4</td><td>26119921</td><td>CHO-PC's owner</td><td></td></tr>\n",
        "<tr><td>14</td><td>112.146.87.170</td><td>429790</td><td>95</td><td>55073858</td><td>Korea Republic of</td><td>2</td><td>17114007</td><td>leeneunggil-PC's owner</td><td></td></tr>\n",
        "<tr><td>15</td><td>58.141.99.32</td><td>420204</td><td>127</td><td>61644980</td><td>Korea Republic of</td><td>1</td><td>71746420</td><td>RME's owner</td><td></td></tr>\n",
        "<tr><td>17</td><td>61.81.68.200</td><td>341521</td><td>45</td><td>18453929</td><td>Korea Republic of</td><td>0</td><td>6359341</td><td>Gyum-PC's owner</td><td></td></tr>\n",
        "<tr><td>18</td><td>109.110.36.54</td><td>326387</td><td>128</td><td>23433589</td><td>Russian Federation</td><td>6</td><td>76554823</td><td>Dimon's owner</td><td></td></tr>\n",
        "<tr><td>19</td><td>117.7.238.160</td><td>323628</td><td>65</td><td>19424528</td><td>Viet Nam</td><td>1</td><td>17512519</td><td>Loyran-PC's owner</td><td></td></tr>\n",
        "<tr><td>23</td><td>116.100.183.227</td><td>288121</td><td>57</td><td>15243471</td><td>Viet Nam</td><td>3</td><td>8114595</td><td>admin-PC's owner</td><td></td></tr>\n",
        "<tr><td>27</td><td>70.118.25.115</td><td>248991</td><td>28</td><td>6302345</td><td>United States</td><td>3</td><td>15645367</td><td>James-PC's owner</td><td></td></tr>\n",
        "<tr><td>30</td><td>183.89.60.103</td><td>225793</td><td>34</td><td>8154409</td><td>Thailand</td><td>0</td><td>4732178</td><td>ENOIABVASXZRD5Q's owner</td><td></td></tr>\n",
        "<tr><td>31</td><td>108.171.103.50</td><td>216640</td><td>43</td><td>7942496</td><td>United States</td><td>3</td><td>43284666</td><td>MainGateway's owner</td><td></td></tr>\n",
        "<tr><td>33</td><td>90.156.80.80</td><td>190241</td><td>35</td><td>3277938</td><td>Poland</td><td>4</td><td>26607730</td><td>Sanguine-K's owner</td><td></td></tr>\n",
        "<tr><td>36</td><td>58.11.121.192</td><td>156957</td><td>298</td><td>9384454</td><td>Thailand</td><td>1</td><td>18920644</td><td>centory-06's owner</td><td></td></tr>\n",
        "<tr><td>37</td><td>101.160.208.80</td><td>154333</td><td>32</td><td>0</td><td>Australia</td><td>0</td><td>18563894</td><td>Study-i5-3570K's owner</td><td></td></tr>\n",
        "<tr><td>39</td><td>216.165.229.174</td><td>147436</td><td>57</td><td>4442246</td><td>United States</td><td>0</td><td>10099115</td><td>Coelacat-PC's owner</td><td></td></tr>\n",
        "<tr><td>40</td><td>119.18.142.242</td><td>147107</td><td>20</td><td>28057692</td><td>Viet Nam</td><td>0</td><td>14429080</td><td>VuTheTrung-PC's owner</td><td></td></tr>\n",
        "</table>"
       ],
       "metadata": {},
       "output_type": "display_data",
       "text": [
        "<IPython.core.display.HTML at 0x7f5e18e5d490>"
       ]
      }
     ],
     "prompt_number": 102
    },
    {
     "cell_type": "code",
     "collapsed": false,
     "input": [
      "#data = load_server_data()\n",
      "#title,servers = setupData(data)\n",
      "#disp(servers,[1,2,3,4,5,7,8,12,13],100)"
     ],
     "language": "python",
     "metadata": {},
     "outputs": [],
     "prompt_number": 23
    },
    {
     "cell_type": "code",
     "collapsed": false,
     "input": [
      "disp(servers,[1,2,3,4,5,7,8,12,13],4)"
     ],
     "language": "python",
     "metadata": {},
     "outputs": [
      {
       "html": [
        "<table>\n",
        "<tr><td>id</td><td>IP</td><td>Score</td><td>Ping</td><td>Speed</td><td>CountryLong</td><td>Num</td><td>Uptime</td><td>Operator</td><td>Message</td></tr>\n",
        "<tr><td>8</td><td>121.144.192.127</td><td>381274</td><td>45</td><td>21634081</td><td>Korea Republic of</td><td>2</td><td>9920318</td><td>user-PC's owner</td><td></td></tr>\n",
        "<tr><td>15</td><td>1.232.77.18</td><td>299237</td><td>71</td><td>17551845</td><td>Korea Republic of</td><td>1</td><td>9010454</td><td>\uae40\ub0a8\ud658-PC's owner</td><td></td></tr>\n",
        "<tr><td>17</td><td>119.200.55.170</td><td>285911</td><td>55</td><td>15058631</td><td>Korea Republic of</td><td>4</td><td>8112930</td><td>hands-pc's owner</td><td></td></tr>\n",
        "<tr><td>19</td><td>220.126.131.24</td><td>268441</td><td>75</td><td>16819627</td><td>Korea Republic of</td><td>0</td><td>13301529</td><td>MSDN-SPECIAL's owner</td><td></td></tr>\n",
        "<tr><td>20</td><td>220.76.122.71</td><td>264534</td><td>74</td><td>15084695</td><td>Korea Republic of</td><td>6</td><td>13540731</td><td>asus-PC's owner</td><td></td></tr>\n",
        "<tr><td>22</td><td>175.204.205.209</td><td>254836</td><td>72</td><td>13815324</td><td>Korea Republic of</td><td>0</td><td>5466008</td><td>Home-PC's owner</td><td></td></tr>\n",
        "<tr><td>25</td><td>153.184.71.101</td><td>247775</td><td>63</td><td>12146838</td><td>Japan</td><td>12</td><td>6309910</td><td>WIN-4QPNBNVGDGC's owner</td><td>Hello_ World !!</td></tr>\n",
        "<tr><td>29</td><td>95.221.50.105</td><td>207052</td><td>22</td><td>1492995</td><td>Russian Federation</td><td>1</td><td>13727252</td><td>VietAnh's owner</td><td></td></tr>\n",
        "<tr><td>32</td><td>111.95.218.248</td><td>183997</td><td>29</td><td>1761621</td><td>Indonesia</td><td>0</td><td>5840433</td><td>Deny-Pc's owner</td><td></td></tr>\n",
        "<tr><td>33</td><td>219.116.9.249</td><td>176234</td><td>60</td><td>6283014</td><td>Japan</td><td>1</td><td>6332506</td><td>taka-PC's owner</td><td></td></tr>\n",
        "<tr><td>38</td><td>203.255.50.99</td><td>129590</td><td>59</td><td>2493330</td><td>Korea Republic of</td><td>0</td><td>1263697</td><td>Akari-PC's owner</td><td></td></tr>\n",
        "<tr><td>40</td><td>183.88.201.38</td><td>121531</td><td>53</td><td>3222537</td><td>Thailand</td><td>1</td><td>13515068</td><td>ASUS-PC's owner</td><td></td></tr>\n",
        "<tr><td>41</td><td>106.174.8.36</td><td>121416</td><td>57</td><td>36923748</td><td>Japan</td><td>2</td><td>363472</td><td>yukimi-PC's owner</td><td></td></tr>\n",
        "<tr><td>51</td><td>183.25.216.158</td><td>76559</td><td>200</td><td>2094537</td><td>China</td><td>0</td><td>6320532</td><td>sensQ45c's owner</td><td></td></tr>\n",
        "<tr><td>57</td><td>123.18.110.74</td><td>69996</td><td>106</td><td>2006221</td><td>Viet Nam</td><td>0</td><td>5429952</td><td>DamQuang-PC's owner</td><td></td></tr>\n",
        "<tr><td>58</td><td>113.210.9.230</td><td>69107</td><td>87</td><td>1430211</td><td>Malaysia</td><td>0</td><td>8113635</td><td>akob-PC's owner</td><td></td></tr>\n",
        "<tr><td>60</td><td>78.91.50.170</td><td>60331</td><td>25</td><td>4182539</td><td>Norway</td><td>2</td><td>4787781</td><td>AnyOne-PC's owner</td><td></td></tr>\n",
        "<tr><td>63</td><td>180.224.148.23</td><td>47352</td><td>116</td><td>10097514</td><td>Korea Republic of</td><td>0</td><td>9915498</td><td>NiceTo-PC's owner</td><td></td></tr>\n",
        "<tr><td>69</td><td>219.26.204.8</td><td>40707</td><td>65</td><td>4611563</td><td>Japan</td><td>0</td><td>11754854</td><td>user-PC's owner</td><td></td></tr>\n",
        "<tr><td>71</td><td>14.207.246.32</td><td>39978</td><td>56</td><td>4395794</td><td>Thailand</td><td>0</td><td>13516774</td><td>ASUS-PC's owner</td><td></td></tr>\n",
        "<tr><td>73</td><td>183.182.114.13</td><td>37187</td><td>192</td><td>853616</td><td>Lao People's Democratic Republic</td><td>0</td><td>9916374</td><td>Admin-05's owner</td><td></td></tr>\n",
        "</table>"
       ],
       "metadata": {},
       "output_type": "display_data",
       "text": [
        "<IPython.core.display.HTML at 0x7f5e18e80650>"
       ]
      }
     ],
     "prompt_number": 89
    },
    {
     "cell_type": "code",
     "collapsed": false,
     "input": [
      "getOVPN4Link(2)"
     ],
     "language": "python",
     "metadata": {},
     "outputs": [
      {
       "output_type": "stream",
       "stream": "stdout",
       "text": [
        "to link to server:2\n",
        "sudo openvpn ./config.ovpn\n"
       ]
      }
     ],
     "prompt_number": 103
    },
    {
     "cell_type": "code",
     "collapsed": false,
     "input": [],
     "language": "python",
     "metadata": {},
     "outputs": []
    }
   ],
   "metadata": {}
  }
 ]
}